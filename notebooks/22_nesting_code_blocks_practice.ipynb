{
 "cells": [
  {
   "cell_type": "markdown",
   "id": "9b68a3a0",
   "metadata": {},
   "source": [
    "<details><summary style=\"display:list-item; font-size:16px; color:blue;\">Jupyter Help</summary>\n",
    "    \n",
    "Having trouble testing your work? Double-check that you have followed the steps below to write, run, save, and test your code!\n",
    "    \n",
    "[Click here for a walkthrough GIF of the steps below](https://static-assets.codecademy.com/Courses/ds-python/jupyter-help.gif)\n",
    "\n",
    "Run all initial cells to import libraries and datasets. Then follow these steps for each question:\n",
    "    \n",
    "1. Add your solution to the cell with `## YOUR SOLUTION HERE ## `.\n",
    "2. Run the cell by selecting the `Run` button or the `Shift`+`Enter` keys.\n",
    "3. Save your work by selecting the `Save` button, the `command`+`s` keys (Mac), or `control`+`s` keys (Windows).\n",
    "4. Select the `Test Work` button at the bottom left to test your work.\n",
    "\n",
    "![Screenshot of the buttons at the top of a Jupyter Notebook. The Run and Save buttons are highlighted](https://static-assets.codecademy.com/Paths/ds-python/jupyter-buttons.png)"
   ]
  },
  {
   "cell_type": "markdown",
   "id": "4c609b12",
   "metadata": {},
   "source": [
    "Setup"
   ]
  },
  {
   "cell_type": "code",
   "execution_count": 1,
   "id": "047d9dc9",
   "metadata": {
    "deletable": false,
    "tags": [
     "setup"
    ]
   },
   "outputs": [
    {
     "data": {
      "text/html": [
       "<div>\n",
       "<style scoped>\n",
       "    .dataframe tbody tr th:only-of-type {\n",
       "        vertical-align: middle;\n",
       "    }\n",
       "\n",
       "    .dataframe tbody tr th {\n",
       "        vertical-align: top;\n",
       "    }\n",
       "\n",
       "    .dataframe thead th {\n",
       "        text-align: right;\n",
       "    }\n",
       "</style>\n",
       "<table border=\"1\" class=\"dataframe\">\n",
       "  <thead>\n",
       "    <tr style=\"text-align: right;\">\n",
       "      <th></th>\n",
       "      <th>Ride_ID</th>\n",
       "      <th>Ride_Name</th>\n",
       "      <th>Ride_Type</th>\n",
       "      <th>Location</th>\n",
       "      <th>Total_Riders</th>\n",
       "    </tr>\n",
       "  </thead>\n",
       "  <tbody>\n",
       "    <tr>\n",
       "      <th>0</th>\n",
       "      <td>E000</td>\n",
       "      <td>Flying with Bald Eagles</td>\n",
       "      <td>SIMULATION</td>\n",
       "      <td>NORTH AMERICA</td>\n",
       "      <td>6525831</td>\n",
       "    </tr>\n",
       "    <tr>\n",
       "      <th>1</th>\n",
       "      <td>E001</td>\n",
       "      <td>Grand Canyon Coaster</td>\n",
       "      <td>ROLLERCOASTER</td>\n",
       "      <td>NORTH AMERICA</td>\n",
       "      <td>8039490</td>\n",
       "    </tr>\n",
       "    <tr>\n",
       "      <th>2</th>\n",
       "      <td>E002</td>\n",
       "      <td>Bouldering Bison</td>\n",
       "      <td>FLAT RIDE</td>\n",
       "      <td>NORTH AMERICA</td>\n",
       "      <td>7075161</td>\n",
       "    </tr>\n",
       "    <tr>\n",
       "      <th>3</th>\n",
       "      <td>E003</td>\n",
       "      <td>Swimming with Manatees</td>\n",
       "      <td>WATER RIDE</td>\n",
       "      <td>NORTH AMERICA</td>\n",
       "      <td>6959417</td>\n",
       "    </tr>\n",
       "    <tr>\n",
       "      <th>4</th>\n",
       "      <td>E004</td>\n",
       "      <td>Grizzly Bear Fishing</td>\n",
       "      <td>WATER RIDE</td>\n",
       "      <td>NORTH AMERICA</td>\n",
       "      <td>6504358</td>\n",
       "    </tr>\n",
       "  </tbody>\n",
       "</table>\n",
       "</div>"
      ],
      "text/plain": [
       "  Ride_ID                Ride_Name      Ride_Type       Location  Total_Riders\n",
       "0    E000  Flying with Bald Eagles     SIMULATION  NORTH AMERICA       6525831\n",
       "1    E001     Grand Canyon Coaster  ROLLERCOASTER  NORTH AMERICA       8039490\n",
       "2    E002         Bouldering Bison      FLAT RIDE  NORTH AMERICA       7075161\n",
       "3    E003   Swimming with Manatees     WATER RIDE  NORTH AMERICA       6959417\n",
       "4    E004     Grizzly Bear Fishing     WATER RIDE  NORTH AMERICA       6504358"
      ]
     },
     "execution_count": 1,
     "metadata": {},
     "output_type": "execute_result"
    }
   ],
   "source": [
    "import pandas as pd\n",
    "\n",
    "rides = pd.read_csv('amusementpark_4.csv')\n",
    "rides.head()"
   ]
  },
  {
   "cell_type": "markdown",
   "id": "079e0e0c",
   "metadata": {},
   "source": [
    "1. Run the `Setup` cell to import libraries and datasets.\n",
    "\n",
    "We've written a loop that loops through all the columns of `rides`. For object columns, our code strips leading and trailing whitespace. For `'int64'` columns, our code converts the column to `'float64'`. We've forgotten to include the proper indentation -- can you fix our mistake?\n",
    "\n",
    "Make sure to run your solution and then save the notebook before selecting `Test Work`!"
   ]
  },
  {
   "cell_type": "code",
   "execution_count": 3,
   "id": "b318baec",
   "metadata": {
    "deletable": false,
    "tags": [
     "cp1"
    ]
   },
   "outputs": [],
   "source": [
    "## YOUR SOLUTION HERE ##\n",
    "for col in rides.columns:\n",
    "    if rides[col].dtype == 'object':\n",
    "        rides[col] = rides[col].str.strip()\n",
    "    elif rides[col].dtype == 'int64':\n",
    "        rides[col] = rides[col].astype('float64')"
   ]
  },
  {
   "cell_type": "markdown",
   "id": "8d481799",
   "metadata": {},
   "source": [
    "2. Write a `for` loop that loops over the list `columns`. Each iteration, the loop should:\n",
    "\n",
    "- check if the column has `int64` data type. If so, print the `mean` of the column\n",
    "- elif, check that the column has `float64` data type. If so, print the `mean` of the column\n",
    "- else, print the `mode` of the column\n",
    "\n",
    "Make sure to run your solution and then save the notebook before selecting `Test Work`!"
   ]
  },
  {
   "cell_type": "code",
   "execution_count": 5,
   "id": "4ddf801b",
   "metadata": {
    "deletable": false,
    "tags": [
     "cp2"
    ]
   },
   "outputs": [
    {
     "name": "stdout",
     "output_type": "stream",
     "text": [
      "0    ROLLERCOASTER\n",
      "Name: Ride_Type, dtype: object\n",
      "----------\n",
      "0    NORTH AMERICA\n",
      "Name: Location, dtype: object\n",
      "----------\n",
      "7088815.838709678\n",
      "----------\n"
     ]
    }
   ],
   "source": [
    "columns = ['Ride_Type','Location','Total_Riders']\n",
    "\n",
    "## YOUR SOLUTION HERE #\n",
    "for col in columns:\n",
    "    if rides[col].dtype == 'int64':\n",
    "        print(rides[col].mean())\n",
    "        print('----------')\n",
    "    elif rides[col].dtype == 'float64':\n",
    "        print(rides[col].mean())\n",
    "        print('----------')\n",
    "    else:\n",
    "        print(rides[col].mode())\n",
    "        print('----------')"
   ]
  },
  {
   "cell_type": "markdown",
   "id": "ba13e6e6",
   "metadata": {},
   "source": [
    "3. We've written a loop to lowercase every column in `rides`. Update our loop using `continue` and `break` to:\n",
    "\n",
    "- skip `Ride_ID`, leaving it uppercase\n",
    "- end the loop after lowercasing `Ride_Type`\n",
    "\n",
    "Make sure to run your solution and then save the notebook before selecting `Test Work`!"
   ]
  },
  {
   "cell_type": "code",
   "execution_count": 14,
   "id": "f5e0c8dc",
   "metadata": {
    "deletable": false,
    "tags": [
     "cp3"
    ]
   },
   "outputs": [
    {
     "data": {
      "text/html": [
       "<div>\n",
       "<style scoped>\n",
       "    .dataframe tbody tr th:only-of-type {\n",
       "        vertical-align: middle;\n",
       "    }\n",
       "\n",
       "    .dataframe tbody tr th {\n",
       "        vertical-align: top;\n",
       "    }\n",
       "\n",
       "    .dataframe thead th {\n",
       "        text-align: right;\n",
       "    }\n",
       "</style>\n",
       "<table border=\"1\" class=\"dataframe\">\n",
       "  <thead>\n",
       "    <tr style=\"text-align: right;\">\n",
       "      <th></th>\n",
       "      <th>Ride_ID</th>\n",
       "      <th>Ride_Name</th>\n",
       "      <th>Ride_Type</th>\n",
       "      <th>Location</th>\n",
       "      <th>Total_Riders</th>\n",
       "    </tr>\n",
       "  </thead>\n",
       "  <tbody>\n",
       "    <tr>\n",
       "      <th>0</th>\n",
       "      <td>E000</td>\n",
       "      <td>flying with bald eagles</td>\n",
       "      <td>simulation</td>\n",
       "      <td>north america</td>\n",
       "      <td>6525831.0</td>\n",
       "    </tr>\n",
       "    <tr>\n",
       "      <th>1</th>\n",
       "      <td>E001</td>\n",
       "      <td>grand canyon coaster</td>\n",
       "      <td>rollercoaster</td>\n",
       "      <td>north america</td>\n",
       "      <td>8039490.0</td>\n",
       "    </tr>\n",
       "    <tr>\n",
       "      <th>2</th>\n",
       "      <td>E002</td>\n",
       "      <td>bouldering bison</td>\n",
       "      <td>flat ride</td>\n",
       "      <td>north america</td>\n",
       "      <td>7075161.0</td>\n",
       "    </tr>\n",
       "    <tr>\n",
       "      <th>3</th>\n",
       "      <td>E003</td>\n",
       "      <td>swimming with manatees</td>\n",
       "      <td>water ride</td>\n",
       "      <td>north america</td>\n",
       "      <td>6959417.0</td>\n",
       "    </tr>\n",
       "    <tr>\n",
       "      <th>4</th>\n",
       "      <td>E004</td>\n",
       "      <td>grizzly bear fishing</td>\n",
       "      <td>water ride</td>\n",
       "      <td>north america</td>\n",
       "      <td>6504358.0</td>\n",
       "    </tr>\n",
       "  </tbody>\n",
       "</table>\n",
       "</div>"
      ],
      "text/plain": [
       "  Ride_ID                Ride_Name      Ride_Type       Location  Total_Riders\n",
       "0    E000  flying with bald eagles     simulation  north america     6525831.0\n",
       "1    E001     grand canyon coaster  rollercoaster  north america     8039490.0\n",
       "2    E002         bouldering bison      flat ride  north america     7075161.0\n",
       "3    E003   swimming with manatees     water ride  north america     6959417.0\n",
       "4    E004     grizzly bear fishing     water ride  north america     6504358.0"
      ]
     },
     "execution_count": 14,
     "metadata": {},
     "output_type": "execute_result"
    }
   ],
   "source": [
    "for col in rides.columns:\n",
    "    if col == 'Ride_ID':\n",
    "        continue  # dejar Ride_ID sin cambios\n",
    "    rides[col] = rides[col].str.lower()  # convertir a minúsculas\n",
    "    if col == 'Ride_Type':\n",
    "        break  # detener el loop después de Ride_Type\n",
    "\n",
    "#show output\n",
    "\n",
    "rides.head()"
   ]
  },
  {
   "cell_type": "code",
   "execution_count": null,
   "id": "47793da3",
   "metadata": {},
   "outputs": [],
   "source": []
  }
 ],
 "metadata": {
  "kernelspec": {
   "display_name": "Python 3 (ipykernel)",
   "language": "python",
   "name": "python3"
  },
  "language_info": {
   "codemirror_mode": {
    "name": "ipython",
    "version": 3
   },
   "file_extension": ".py",
   "mimetype": "text/x-python",
   "name": "python",
   "nbconvert_exporter": "python",
   "pygments_lexer": "ipython3",
   "version": "3.8.10"
  },
  "vscode": {
   "interpreter": {
    "hash": "309216611941becf9925be7ac3912671b340e0beea225aa90b8e863000503aea"
   }
  }
 },
 "nbformat": 4,
 "nbformat_minor": 5
}
