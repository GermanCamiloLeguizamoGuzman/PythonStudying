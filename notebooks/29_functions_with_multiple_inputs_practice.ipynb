{
 "cells": [
  {
   "cell_type": "markdown",
   "id": "4c609b12",
   "metadata": {},
   "source": [
    "**Setup**\n",
    "\n",
    "Start by running the cell below to import `pandas` and import the exercise datasets."
   ]
  },
  {
   "cell_type": "code",
   "execution_count": 1,
   "id": "047d9dc9",
   "metadata": {
    "deletable": false,
    "tags": [
     "setup"
    ]
   },
   "outputs": [
    {
     "data": {
      "text/html": [
       "<div>\n",
       "<style scoped>\n",
       "    .dataframe tbody tr th:only-of-type {\n",
       "        vertical-align: middle;\n",
       "    }\n",
       "\n",
       "    .dataframe tbody tr th {\n",
       "        vertical-align: top;\n",
       "    }\n",
       "\n",
       "    .dataframe thead th {\n",
       "        text-align: right;\n",
       "    }\n",
       "</style>\n",
       "<table border=\"1\" class=\"dataframe\">\n",
       "  <thead>\n",
       "    <tr style=\"text-align: right;\">\n",
       "      <th></th>\n",
       "      <th>review_id</th>\n",
       "      <th>current_plan_start</th>\n",
       "      <th>days_subscribed</th>\n",
       "      <th>date_reviewed</th>\n",
       "      <th>pay_freq</th>\n",
       "      <th>level</th>\n",
       "      <th>rating</th>\n",
       "      <th>first_level</th>\n",
       "    </tr>\n",
       "  </thead>\n",
       "  <tbody>\n",
       "    <tr>\n",
       "      <th>0</th>\n",
       "      <td>38538</td>\n",
       "      <td>2022-08-29</td>\n",
       "      <td>229</td>\n",
       "      <td>2023-04-15</td>\n",
       "      <td>Yearly</td>\n",
       "      <td>Premium</td>\n",
       "      <td>2</td>\n",
       "      <td>Free</td>\n",
       "    </tr>\n",
       "    <tr>\n",
       "      <th>1</th>\n",
       "      <td>78458</td>\n",
       "      <td>2022-04-11</td>\n",
       "      <td>279</td>\n",
       "      <td>2023-01-15</td>\n",
       "      <td>NaN</td>\n",
       "      <td>Free</td>\n",
       "      <td>5</td>\n",
       "      <td>Standard</td>\n",
       "    </tr>\n",
       "    <tr>\n",
       "      <th>2</th>\n",
       "      <td>16139</td>\n",
       "      <td>2022-01-19</td>\n",
       "      <td>422</td>\n",
       "      <td>2023-03-17</td>\n",
       "      <td>NaN</td>\n",
       "      <td>Free</td>\n",
       "      <td>3</td>\n",
       "      <td>Premium</td>\n",
       "    </tr>\n",
       "    <tr>\n",
       "      <th>3</th>\n",
       "      <td>88142</td>\n",
       "      <td>2022-02-26</td>\n",
       "      <td>454</td>\n",
       "      <td>2023-05-26</td>\n",
       "      <td>Yearly</td>\n",
       "      <td>Standard</td>\n",
       "      <td>3</td>\n",
       "      <td>Standard</td>\n",
       "    </tr>\n",
       "    <tr>\n",
       "      <th>4</th>\n",
       "      <td>21901</td>\n",
       "      <td>2022-05-27</td>\n",
       "      <td>84</td>\n",
       "      <td>2022-08-19</td>\n",
       "      <td>NaN</td>\n",
       "      <td>Free</td>\n",
       "      <td>4</td>\n",
       "      <td>Premium</td>\n",
       "    </tr>\n",
       "  </tbody>\n",
       "</table>\n",
       "</div>"
      ],
      "text/plain": [
       "   review_id current_plan_start  days_subscribed date_reviewed pay_freq  \\\n",
       "0      38538         2022-08-29              229    2023-04-15   Yearly   \n",
       "1      78458         2022-04-11              279    2023-01-15      NaN   \n",
       "2      16139         2022-01-19              422    2023-03-17      NaN   \n",
       "3      88142         2022-02-26              454    2023-05-26   Yearly   \n",
       "4      21901         2022-05-27               84    2022-08-19      NaN   \n",
       "\n",
       "      level  rating first_level  \n",
       "0   Premium       2        Free  \n",
       "1      Free       5    Standard  \n",
       "2      Free       3     Premium  \n",
       "3  Standard       3    Standard  \n",
       "4      Free       4     Premium  "
      ]
     },
     "execution_count": 1,
     "metadata": {},
     "output_type": "execute_result"
    }
   ],
   "source": [
    "import pandas as pd\n",
    "csat = pd.read_csv('csat.csv')\n",
    "csat.head()"
   ]
  },
  {
   "cell_type": "markdown",
   "id": "079e0e0c",
   "metadata": {},
   "source": [
    "**1. Calling `preview`**\n",
    "\n",
    "We've placed the code for the `preview` function below. Call `preview` to display the first 7 rows of the DataFrame `csat`."
   ]
  },
  {
   "cell_type": "code",
   "execution_count": 4,
   "id": "b318baec",
   "metadata": {
    "deletable": false,
    "tags": [
     "cp1"
    ]
   },
   "outputs": [
    {
     "data": {
      "text/html": [
       "<div>\n",
       "<style scoped>\n",
       "    .dataframe tbody tr th:only-of-type {\n",
       "        vertical-align: middle;\n",
       "    }\n",
       "\n",
       "    .dataframe tbody tr th {\n",
       "        vertical-align: top;\n",
       "    }\n",
       "\n",
       "    .dataframe thead th {\n",
       "        text-align: right;\n",
       "    }\n",
       "</style>\n",
       "<table border=\"1\" class=\"dataframe\">\n",
       "  <thead>\n",
       "    <tr style=\"text-align: right;\">\n",
       "      <th></th>\n",
       "      <th>review_id</th>\n",
       "      <th>current_plan_start</th>\n",
       "      <th>days_subscribed</th>\n",
       "      <th>date_reviewed</th>\n",
       "      <th>pay_freq</th>\n",
       "      <th>level</th>\n",
       "      <th>rating</th>\n",
       "      <th>first_level</th>\n",
       "    </tr>\n",
       "  </thead>\n",
       "  <tbody>\n",
       "    <tr>\n",
       "      <th>0</th>\n",
       "      <td>38538</td>\n",
       "      <td>2022-08-29</td>\n",
       "      <td>229</td>\n",
       "      <td>2023-04-15</td>\n",
       "      <td>Yearly</td>\n",
       "      <td>Premium</td>\n",
       "      <td>2</td>\n",
       "      <td>Free</td>\n",
       "    </tr>\n",
       "    <tr>\n",
       "      <th>1</th>\n",
       "      <td>78458</td>\n",
       "      <td>2022-04-11</td>\n",
       "      <td>279</td>\n",
       "      <td>2023-01-15</td>\n",
       "      <td>NaN</td>\n",
       "      <td>Free</td>\n",
       "      <td>5</td>\n",
       "      <td>Standard</td>\n",
       "    </tr>\n",
       "    <tr>\n",
       "      <th>2</th>\n",
       "      <td>16139</td>\n",
       "      <td>2022-01-19</td>\n",
       "      <td>422</td>\n",
       "      <td>2023-03-17</td>\n",
       "      <td>NaN</td>\n",
       "      <td>Free</td>\n",
       "      <td>3</td>\n",
       "      <td>Premium</td>\n",
       "    </tr>\n",
       "    <tr>\n",
       "      <th>3</th>\n",
       "      <td>88142</td>\n",
       "      <td>2022-02-26</td>\n",
       "      <td>454</td>\n",
       "      <td>2023-05-26</td>\n",
       "      <td>Yearly</td>\n",
       "      <td>Standard</td>\n",
       "      <td>3</td>\n",
       "      <td>Standard</td>\n",
       "    </tr>\n",
       "    <tr>\n",
       "      <th>4</th>\n",
       "      <td>21901</td>\n",
       "      <td>2022-05-27</td>\n",
       "      <td>84</td>\n",
       "      <td>2022-08-19</td>\n",
       "      <td>NaN</td>\n",
       "      <td>Free</td>\n",
       "      <td>4</td>\n",
       "      <td>Premium</td>\n",
       "    </tr>\n",
       "    <tr>\n",
       "      <th>5</th>\n",
       "      <td>27938</td>\n",
       "      <td>2022-02-16</td>\n",
       "      <td>15</td>\n",
       "      <td>2022-03-03</td>\n",
       "      <td>NaN</td>\n",
       "      <td>Free</td>\n",
       "      <td>4</td>\n",
       "      <td>Free</td>\n",
       "    </tr>\n",
       "    <tr>\n",
       "      <th>6</th>\n",
       "      <td>66078</td>\n",
       "      <td>2022-02-08</td>\n",
       "      <td>493</td>\n",
       "      <td>2023-06-16</td>\n",
       "      <td>Yearly</td>\n",
       "      <td>Standard</td>\n",
       "      <td>3</td>\n",
       "      <td>Standard</td>\n",
       "    </tr>\n",
       "  </tbody>\n",
       "</table>\n",
       "</div>"
      ],
      "text/plain": [
       "   review_id current_plan_start  days_subscribed date_reviewed pay_freq  \\\n",
       "0      38538         2022-08-29              229    2023-04-15   Yearly   \n",
       "1      78458         2022-04-11              279    2023-01-15      NaN   \n",
       "2      16139         2022-01-19              422    2023-03-17      NaN   \n",
       "3      88142         2022-02-26              454    2023-05-26   Yearly   \n",
       "4      21901         2022-05-27               84    2022-08-19      NaN   \n",
       "5      27938         2022-02-16               15    2022-03-03      NaN   \n",
       "6      66078         2022-02-08              493    2023-06-16   Yearly   \n",
       "\n",
       "      level  rating first_level  \n",
       "0   Premium       2        Free  \n",
       "1      Free       5    Standard  \n",
       "2      Free       3     Premium  \n",
       "3  Standard       3    Standard  \n",
       "4      Free       4     Premium  \n",
       "5      Free       4        Free  \n",
       "6  Standard       3    Standard  "
      ]
     },
     "execution_count": 4,
     "metadata": {},
     "output_type": "execute_result"
    }
   ],
   "source": [
    "def preview(df,n):\n",
    "    rows = df[:n]\n",
    "    return rows\n",
    "\n",
    "## YOUR SOLUTION HERE ##\n",
    "preview(csat, 7)"
   ]
  },
  {
   "cell_type": "markdown",
   "id": "6a172e5e",
   "metadata": {},
   "source": [
    "**2. Previewing the last n rows**\n",
    "\n",
    "We've written a function `endpreview` that returns the last `5` lines of a DataFrame. Add a parameter `n` to this function to return the last `n` lines of a DataFrame, defaulting to `5`."
   ]
  },
  {
   "cell_type": "code",
   "execution_count": 6,
   "id": "e73ed471",
   "metadata": {
    "deletable": false,
    "tags": [
     "cp2"
    ]
   },
   "outputs": [
    {
     "data": {
      "text/html": [
       "<div>\n",
       "<style scoped>\n",
       "    .dataframe tbody tr th:only-of-type {\n",
       "        vertical-align: middle;\n",
       "    }\n",
       "\n",
       "    .dataframe tbody tr th {\n",
       "        vertical-align: top;\n",
       "    }\n",
       "\n",
       "    .dataframe thead th {\n",
       "        text-align: right;\n",
       "    }\n",
       "</style>\n",
       "<table border=\"1\" class=\"dataframe\">\n",
       "  <thead>\n",
       "    <tr style=\"text-align: right;\">\n",
       "      <th></th>\n",
       "      <th>review_id</th>\n",
       "      <th>current_plan_start</th>\n",
       "      <th>days_subscribed</th>\n",
       "      <th>date_reviewed</th>\n",
       "      <th>pay_freq</th>\n",
       "      <th>level</th>\n",
       "      <th>rating</th>\n",
       "      <th>first_level</th>\n",
       "    </tr>\n",
       "  </thead>\n",
       "  <tbody>\n",
       "    <tr>\n",
       "      <th>29997</th>\n",
       "      <td>41264</td>\n",
       "      <td>2022-11-16</td>\n",
       "      <td>35</td>\n",
       "      <td>2022-12-21</td>\n",
       "      <td>NaN</td>\n",
       "      <td>Free</td>\n",
       "      <td>4</td>\n",
       "      <td>Free</td>\n",
       "    </tr>\n",
       "    <tr>\n",
       "      <th>29998</th>\n",
       "      <td>92534</td>\n",
       "      <td>2022-10-14</td>\n",
       "      <td>12</td>\n",
       "      <td>2022-10-26</td>\n",
       "      <td>Yearly</td>\n",
       "      <td>Standard</td>\n",
       "      <td>3</td>\n",
       "      <td>Premium</td>\n",
       "    </tr>\n",
       "    <tr>\n",
       "      <th>29999</th>\n",
       "      <td>48950</td>\n",
       "      <td>2022-02-22</td>\n",
       "      <td>24</td>\n",
       "      <td>2022-03-18</td>\n",
       "      <td>NaN</td>\n",
       "      <td>Free</td>\n",
       "      <td>1</td>\n",
       "      <td>Free</td>\n",
       "    </tr>\n",
       "  </tbody>\n",
       "</table>\n",
       "</div>"
      ],
      "text/plain": [
       "       review_id current_plan_start  days_subscribed date_reviewed pay_freq  \\\n",
       "29997      41264         2022-11-16               35    2022-12-21      NaN   \n",
       "29998      92534         2022-10-14               12    2022-10-26   Yearly   \n",
       "29999      48950         2022-02-22               24    2022-03-18      NaN   \n",
       "\n",
       "          level  rating first_level  \n",
       "29997      Free       4        Free  \n",
       "29998  Standard       3     Premium  \n",
       "29999      Free       1        Free  "
      ]
     },
     "execution_count": 6,
     "metadata": {},
     "output_type": "execute_result"
    }
   ],
   "source": [
    "## YOUR SOLUTION HERE ##\n",
    "def endpreview(df, n = 5):\n",
    "    rows = df[-n:]\n",
    "    return rows\n",
    "\n",
    "# show test output\n",
    "endpreview(csat,3)"
   ]
  },
  {
   "cell_type": "markdown",
   "id": "8d481799",
   "metadata": {},
   "source": [
    "**3. Counting ratings**\n",
    "\n",
    "We've written a function `stars` that takes a ratings column (like `csat['rating']`) and returns the number of `5` -star ratings. \n",
    "\n",
    "Add a parameter named `numstars` to this function. The parameter `numstars` should take a number as input, and count appearances of that number instead of `5`. However, `5` should be the default.\n",
    "\n",
    "For example, `stars(column=csat['rating'],numstars=4)` should count the number of 4-star ratings in the `csat['rating']` column."
   ]
  },
  {
   "cell_type": "code",
   "execution_count": 7,
   "id": "4ddf801b",
   "metadata": {
    "deletable": false,
    "tags": [
     "cp3"
    ]
   },
   "outputs": [
    {
     "data": {
      "text/plain": [
       "9685"
      ]
     },
     "execution_count": 7,
     "metadata": {},
     "output_type": "execute_result"
    }
   ],
   "source": [
    "## YOUR SOLUTION HERE ##\n",
    "def stars(column, numstars = 5):\n",
    "    # column.value_counts() counts ratings by the number of stars\n",
    "    # .loc[5] accesses just the count for 5 star ratings\n",
    "    count = column.value_counts().loc[numstars]\n",
    "    return count\n",
    "\n",
    "# show output\n",
    "stars(column=csat['rating'],numstars=4)"
   ]
  }
 ],
 "metadata": {
  "kernelspec": {
   "display_name": "Python 3 (ipykernel)",
   "language": "python",
   "name": "python3"
  },
  "language_info": {
   "codemirror_mode": {
    "name": "ipython",
    "version": 3
   },
   "file_extension": ".py",
   "mimetype": "text/x-python",
   "name": "python",
   "nbconvert_exporter": "python",
   "pygments_lexer": "ipython3",
   "version": "3.8.10"
  }
 },
 "nbformat": 4,
 "nbformat_minor": 5
}
