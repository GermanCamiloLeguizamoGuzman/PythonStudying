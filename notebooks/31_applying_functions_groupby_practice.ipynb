{
 "cells": [
  {
   "cell_type": "markdown",
   "id": "4c609b12",
   "metadata": {},
   "source": [
    "**Setup**\n",
    "\n",
    "Start by running the cell below to import `pandas` and import the exercise datasets."
   ]
  },
  {
   "cell_type": "code",
   "execution_count": 2,
   "id": "047d9dc9",
   "metadata": {
    "deletable": false,
    "tags": [
     "setup"
    ]
   },
   "outputs": [
    {
     "data": {
      "text/html": [
       "<div>\n",
       "<style scoped>\n",
       "    .dataframe tbody tr th:only-of-type {\n",
       "        vertical-align: middle;\n",
       "    }\n",
       "\n",
       "    .dataframe tbody tr th {\n",
       "        vertical-align: top;\n",
       "    }\n",
       "\n",
       "    .dataframe thead th {\n",
       "        text-align: right;\n",
       "    }\n",
       "</style>\n",
       "<table border=\"1\" class=\"dataframe\">\n",
       "  <thead>\n",
       "    <tr style=\"text-align: right;\">\n",
       "      <th></th>\n",
       "      <th>review_id</th>\n",
       "      <th>current_plan_start</th>\n",
       "      <th>days_subscribed</th>\n",
       "      <th>date_reviewed</th>\n",
       "      <th>pay_freq</th>\n",
       "      <th>level</th>\n",
       "      <th>rating</th>\n",
       "      <th>first_level</th>\n",
       "    </tr>\n",
       "  </thead>\n",
       "  <tbody>\n",
       "    <tr>\n",
       "      <th>0</th>\n",
       "      <td>38538</td>\n",
       "      <td>2022-08-29</td>\n",
       "      <td>229</td>\n",
       "      <td>2023-04-15</td>\n",
       "      <td>Yearly</td>\n",
       "      <td>Premium</td>\n",
       "      <td>2</td>\n",
       "      <td>Free</td>\n",
       "    </tr>\n",
       "    <tr>\n",
       "      <th>1</th>\n",
       "      <td>78458</td>\n",
       "      <td>2022-04-11</td>\n",
       "      <td>279</td>\n",
       "      <td>2023-01-15</td>\n",
       "      <td>NaN</td>\n",
       "      <td>Free</td>\n",
       "      <td>5</td>\n",
       "      <td>Standard</td>\n",
       "    </tr>\n",
       "    <tr>\n",
       "      <th>2</th>\n",
       "      <td>16139</td>\n",
       "      <td>2022-01-19</td>\n",
       "      <td>422</td>\n",
       "      <td>2023-03-17</td>\n",
       "      <td>NaN</td>\n",
       "      <td>Free</td>\n",
       "      <td>3</td>\n",
       "      <td>Premium</td>\n",
       "    </tr>\n",
       "    <tr>\n",
       "      <th>3</th>\n",
       "      <td>88142</td>\n",
       "      <td>2022-02-26</td>\n",
       "      <td>454</td>\n",
       "      <td>2023-05-26</td>\n",
       "      <td>Yearly</td>\n",
       "      <td>Standard</td>\n",
       "      <td>3</td>\n",
       "      <td>Standard</td>\n",
       "    </tr>\n",
       "    <tr>\n",
       "      <th>4</th>\n",
       "      <td>21901</td>\n",
       "      <td>2022-05-27</td>\n",
       "      <td>84</td>\n",
       "      <td>2022-08-19</td>\n",
       "      <td>NaN</td>\n",
       "      <td>Free</td>\n",
       "      <td>4</td>\n",
       "      <td>Premium</td>\n",
       "    </tr>\n",
       "  </tbody>\n",
       "</table>\n",
       "</div>"
      ],
      "text/plain": [
       "   review_id current_plan_start  days_subscribed date_reviewed pay_freq  \\\n",
       "0      38538         2022-08-29              229    2023-04-15   Yearly   \n",
       "1      78458         2022-04-11              279    2023-01-15      NaN   \n",
       "2      16139         2022-01-19              422    2023-03-17      NaN   \n",
       "3      88142         2022-02-26              454    2023-05-26   Yearly   \n",
       "4      21901         2022-05-27               84    2022-08-19      NaN   \n",
       "\n",
       "      level  rating first_level  \n",
       "0   Premium       2        Free  \n",
       "1      Free       5    Standard  \n",
       "2      Free       3     Premium  \n",
       "3  Standard       3    Standard  \n",
       "4      Free       4     Premium  "
      ]
     },
     "execution_count": 2,
     "metadata": {},
     "output_type": "execute_result"
    }
   ],
   "source": [
    "import pandas as pd\n",
    "csat = pd.read_csv('csat.csv')\n",
    "csat.head()"
   ]
  },
  {
   "cell_type": "markdown",
   "id": "079e0e0c",
   "metadata": {},
   "source": [
    "**1. Summarizing Positive Ratings**\n",
    "\n",
    "We've provided a function that computes the number of positive ratings (4 or 5 stars). Use a `groupby.apply` to compute this number for each `level`. Assign the result of your code to the variable `level_counts`."
   ]
  },
  {
   "cell_type": "code",
   "execution_count": 3,
   "id": "b318baec",
   "metadata": {
    "deletable": false,
    "tags": [
     "cp1"
    ]
   },
   "outputs": [
    {
     "data": {
      "text/plain": [
       "level\n",
       "Free        12636\n",
       "Premium      2750\n",
       "Standard     2294\n",
       "Name: rating, dtype: int64"
      ]
     },
     "execution_count": 3,
     "metadata": {},
     "output_type": "execute_result"
    }
   ],
   "source": [
    "def positive(column):\n",
    "    # add up the 4 and 5 star ratings\n",
    "    posRating = column.value_counts().loc[4] + column.value_counts().loc[5]\n",
    "    # return the total\n",
    "    return posRating\n",
    "\n",
    "## YOUR SOLUTION HERE ##\n",
    "level_counts = csat.groupby('level')['rating'].apply(positive)\n",
    "\n",
    "# show output\n",
    "level_counts"
   ]
  },
  {
   "cell_type": "markdown",
   "id": "6a172e5e",
   "metadata": {},
   "source": [
    "**2. Calculate Percent Positive** \n",
    "\n",
    "Raw counts are often misleading. For example, in the prior checkpoint the number of positive ratings for the `Free` plan is much higher than either paid plan. But this could just be because there are more `Free` users overall. \n",
    "\n",
    "We've added a `normalize` parameter to the `positive` function. When `normalize` is `True`, the function will compute the _percent_ of positive ratings for each group, not the raw count. \n",
    "\n",
    "Use a `groupby.apply` with this parameter to compute the percentage of positive ratings for each `level`. Assign the result to `level_percents`."
   ]
  },
  {
   "cell_type": "code",
   "execution_count": 6,
   "id": "e73ed471",
   "metadata": {
    "deletable": false,
    "tags": [
     "cp2"
    ]
   },
   "outputs": [
    {
     "data": {
      "text/plain": [
       "level\n",
       "Free        0.705016\n",
       "Premium     0.597956\n",
       "Standard    0.306767\n",
       "Name: rating, dtype: float64"
      ]
     },
     "execution_count": 6,
     "metadata": {},
     "output_type": "execute_result"
    }
   ],
   "source": [
    "def positive(column,normalize):\n",
    "    # add up the 4 and 5 star ratings\n",
    "    posRating = column.value_counts().loc[4] + column.value_counts().loc[5]\n",
    "    \n",
    "    if normalize:\n",
    "        # if normalize is True, calculate percentages\n",
    "        # len(column) is the total number of ratings in the ratings column\n",
    "        posRating = posRating / len(column)\n",
    "    \n",
    "    # output\n",
    "    return posRating\n",
    "\n",
    "## YOUR SOLUTION HERE ##\n",
    "level_percents = csat.groupby('level')['rating'].apply(positive, normalize = True)\n",
    "\n",
    "# show output\n",
    "level_percents"
   ]
  }
 ],
 "metadata": {
  "kernelspec": {
   "display_name": "Python 3 (ipykernel)",
   "language": "python",
   "name": "python3"
  },
  "language_info": {
   "codemirror_mode": {
    "name": "ipython",
    "version": 3
   },
   "file_extension": ".py",
   "mimetype": "text/x-python",
   "name": "python",
   "nbconvert_exporter": "python",
   "pygments_lexer": "ipython3",
   "version": "3.8.10"
  }
 },
 "nbformat": 4,
 "nbformat_minor": 5
}
