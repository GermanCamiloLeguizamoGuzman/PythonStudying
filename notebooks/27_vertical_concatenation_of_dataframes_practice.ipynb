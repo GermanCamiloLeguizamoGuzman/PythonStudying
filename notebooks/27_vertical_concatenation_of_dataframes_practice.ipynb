{
 "cells": [
  {
   "cell_type": "markdown",
   "id": "07cffe01",
   "metadata": {},
   "source": [
    "<details><summary style=\"display:list-item; font-size:16px; color:blue;\">Jupyter Help</summary>\n",
    "    \n",
    "Having trouble testing your work? Double-check that you have followed the steps below to write, run, save, and test your code!\n",
    "    \n",
    "[Click here for a walkthrough GIF of the steps below](https://static-assets.codecademy.com/Courses/ds-python/jupyter-help.gif)\n",
    "\n",
    "Run all initial cells to import libraries and datasets. Then follow these steps for each question:\n",
    "    \n",
    "1. Add your solution to the cell with `## YOUR SOLUTION HERE ## `.\n",
    "2. Run the cell by selecting the `Run` button or the `Shift`+`Enter` keys.\n",
    "3. Save your work by selecting the `Save` button, the `command`+`s` keys (Mac), or `control`+`s` keys (Windows).\n",
    "4. Select the `Test Work` button at the bottom left to test your work.\n",
    "\n",
    "![Screenshot of the buttons at the top of a Jupyter Notebook. The Run and Save buttons are highlighted](https://static-assets.codecademy.com/Paths/ds-python/jupyter-buttons.png)"
   ]
  },
  {
   "cell_type": "markdown",
   "id": "4c609b12",
   "metadata": {},
   "source": [
    "Setup"
   ]
  },
  {
   "cell_type": "code",
   "execution_count": 1,
   "id": "047d9dc9",
   "metadata": {
    "deletable": false,
    "tags": [
     "setup"
    ]
   },
   "outputs": [
    {
     "data": {
      "text/html": [
       "<div>\n",
       "<style scoped>\n",
       "    .dataframe tbody tr th:only-of-type {\n",
       "        vertical-align: middle;\n",
       "    }\n",
       "\n",
       "    .dataframe tbody tr th {\n",
       "        vertical-align: top;\n",
       "    }\n",
       "\n",
       "    .dataframe thead th {\n",
       "        text-align: right;\n",
       "    }\n",
       "</style>\n",
       "<table border=\"1\" class=\"dataframe\">\n",
       "  <thead>\n",
       "    <tr style=\"text-align: right;\">\n",
       "      <th></th>\n",
       "      <th>Ride_ID</th>\n",
       "      <th>Ride_Name</th>\n",
       "      <th>Ride_Type</th>\n",
       "      <th>Location</th>\n",
       "      <th>Total_Riders</th>\n",
       "    </tr>\n",
       "  </thead>\n",
       "  <tbody>\n",
       "    <tr>\n",
       "      <th>0</th>\n",
       "      <td>A000</td>\n",
       "      <td>Cheetah Rush</td>\n",
       "      <td>ROLLERCOASTER</td>\n",
       "      <td>AFRICA</td>\n",
       "      <td>1302035</td>\n",
       "    </tr>\n",
       "    <tr>\n",
       "      <th>1</th>\n",
       "      <td>A001</td>\n",
       "      <td>Rusizi River Delta Hippo Run</td>\n",
       "      <td>WATER RIDE</td>\n",
       "      <td>AFRICA</td>\n",
       "      <td>1500390</td>\n",
       "    </tr>\n",
       "    <tr>\n",
       "      <th>2</th>\n",
       "      <td>A002</td>\n",
       "      <td>Grazing Wildebeest Run</td>\n",
       "      <td>ROLLERCOASTER</td>\n",
       "      <td>AFRICA</td>\n",
       "      <td>1467583</td>\n",
       "    </tr>\n",
       "    <tr>\n",
       "      <th>3</th>\n",
       "      <td>A003</td>\n",
       "      <td>Lazy Lion Safari</td>\n",
       "      <td>FLAT RIDE</td>\n",
       "      <td>AFRICA</td>\n",
       "      <td>702522</td>\n",
       "    </tr>\n",
       "    <tr>\n",
       "      <th>4</th>\n",
       "      <td>A004</td>\n",
       "      <td>Ostrich Race</td>\n",
       "      <td>ROLLERCOASTER</td>\n",
       "      <td>AFRICA</td>\n",
       "      <td>1249306</td>\n",
       "    </tr>\n",
       "  </tbody>\n",
       "</table>\n",
       "</div>"
      ],
      "text/plain": [
       "  Ride_ID                     Ride_Name      Ride_Type Location  Total_Riders\n",
       "0    A000                  Cheetah Rush  ROLLERCOASTER   AFRICA       1302035\n",
       "1    A001  Rusizi River Delta Hippo Run     WATER RIDE   AFRICA       1500390\n",
       "2    A002        Grazing Wildebeest Run  ROLLERCOASTER   AFRICA       1467583\n",
       "3    A003              Lazy Lion Safari      FLAT RIDE   AFRICA        702522\n",
       "4    A004                  Ostrich Race  ROLLERCOASTER   AFRICA       1249306"
      ]
     },
     "execution_count": 1,
     "metadata": {},
     "output_type": "execute_result"
    }
   ],
   "source": [
    "import pandas as pd\n",
    "\n",
    "# read in datasets\n",
    "filenames = ['amusementpark_' + str(i) + '.csv' for i in range(6)]\n",
    "dfs = [pd.read_csv(filename) for filename in filenames]\n",
    "dfs[0].head()"
   ]
  },
  {
   "cell_type": "markdown",
   "id": "079e0e0c",
   "metadata": {},
   "source": [
    "1. Run the `Setup` cell to import libraries and datasets.\n",
    "\n",
    "In the `Setup` cell, we've created a list of DataFrames named `dfs`. Concatenate this list vertically. Assign the result to the variable `full_df`.\n",
    "\n",
    "Make sure to run your solution and then save the notebook before selecting `Test Work`!"
   ]
  },
  {
   "cell_type": "code",
   "execution_count": 2,
   "id": "b318baec",
   "metadata": {
    "deletable": false,
    "tags": [
     "cp1"
    ]
   },
   "outputs": [
    {
     "data": {
      "text/html": [
       "<div>\n",
       "<style scoped>\n",
       "    .dataframe tbody tr th:only-of-type {\n",
       "        vertical-align: middle;\n",
       "    }\n",
       "\n",
       "    .dataframe tbody tr th {\n",
       "        vertical-align: top;\n",
       "    }\n",
       "\n",
       "    .dataframe thead th {\n",
       "        text-align: right;\n",
       "    }\n",
       "</style>\n",
       "<table border=\"1\" class=\"dataframe\">\n",
       "  <thead>\n",
       "    <tr style=\"text-align: right;\">\n",
       "      <th></th>\n",
       "      <th>Ride_ID</th>\n",
       "      <th>Ride_Name</th>\n",
       "      <th>Ride_Type</th>\n",
       "      <th>Location</th>\n",
       "      <th>Total_Riders</th>\n",
       "      <th>Location_EUROPE</th>\n",
       "    </tr>\n",
       "  </thead>\n",
       "  <tbody>\n",
       "    <tr>\n",
       "      <th>0</th>\n",
       "      <td>A000</td>\n",
       "      <td>Cheetah Rush</td>\n",
       "      <td>ROLLERCOASTER</td>\n",
       "      <td>AFRICA</td>\n",
       "      <td>1302035</td>\n",
       "      <td>NaN</td>\n",
       "    </tr>\n",
       "    <tr>\n",
       "      <th>1</th>\n",
       "      <td>A001</td>\n",
       "      <td>Rusizi River Delta Hippo Run</td>\n",
       "      <td>WATER RIDE</td>\n",
       "      <td>AFRICA</td>\n",
       "      <td>1500390</td>\n",
       "      <td>NaN</td>\n",
       "    </tr>\n",
       "    <tr>\n",
       "      <th>2</th>\n",
       "      <td>A002</td>\n",
       "      <td>Grazing Wildebeest Run</td>\n",
       "      <td>ROLLERCOASTER</td>\n",
       "      <td>AFRICA</td>\n",
       "      <td>1467583</td>\n",
       "      <td>NaN</td>\n",
       "    </tr>\n",
       "    <tr>\n",
       "      <th>3</th>\n",
       "      <td>A003</td>\n",
       "      <td>Lazy Lion Safari</td>\n",
       "      <td>FLAT RIDE</td>\n",
       "      <td>AFRICA</td>\n",
       "      <td>702522</td>\n",
       "      <td>NaN</td>\n",
       "    </tr>\n",
       "    <tr>\n",
       "      <th>4</th>\n",
       "      <td>A004</td>\n",
       "      <td>Ostrich Race</td>\n",
       "      <td>ROLLERCOASTER</td>\n",
       "      <td>AFRICA</td>\n",
       "      <td>1249306</td>\n",
       "      <td>NaN</td>\n",
       "    </tr>\n",
       "  </tbody>\n",
       "</table>\n",
       "</div>"
      ],
      "text/plain": [
       "  Ride_ID                     Ride_Name      Ride_Type Location  Total_Riders  \\\n",
       "0    A000                  Cheetah Rush  ROLLERCOASTER   AFRICA       1302035   \n",
       "1    A001  Rusizi River Delta Hippo Run     WATER RIDE   AFRICA       1500390   \n",
       "2    A002        Grazing Wildebeest Run  ROLLERCOASTER   AFRICA       1467583   \n",
       "3    A003              Lazy Lion Safari      FLAT RIDE   AFRICA        702522   \n",
       "4    A004                  Ostrich Race  ROLLERCOASTER   AFRICA       1249306   \n",
       "\n",
       "  Location_EUROPE  \n",
       "0             NaN  \n",
       "1             NaN  \n",
       "2             NaN  \n",
       "3             NaN  \n",
       "4             NaN  "
      ]
     },
     "execution_count": 2,
     "metadata": {},
     "output_type": "execute_result"
    }
   ],
   "source": [
    "## YOUR SOLUTION HERE ##\n",
    "full_df = pd.concat(dfs)\n",
    "\n",
    "# show output\n",
    "full_df.head()"
   ]
  },
  {
   "cell_type": "markdown",
   "id": "6a172e5e",
   "metadata": {},
   "source": [
    "2. Investigate the output of the prior checkpoint. It looks like `concat` has introduced some `NaN`s because one of the files has a different name for the `Location` column. Write a for loop that will print out `df.columns` (a list of DataFrame columns) for each DataFrame in the list `dfs`.\n",
    "\n",
    "Make sure to run your solution and then save the notebook before selecting `Test Work`!"
   ]
  },
  {
   "cell_type": "code",
   "execution_count": 5,
   "id": "e73ed471",
   "metadata": {
    "deletable": false,
    "tags": [
     "cp2"
    ]
   },
   "outputs": [
    {
     "name": "stdout",
     "output_type": "stream",
     "text": [
      "Index(['Ride_ID', 'Ride_Name', 'Ride_Type', 'Location', 'Total_Riders'], dtype='object')\n",
      "Index(['Ride_ID', 'Ride_Name', 'Ride_Type', 'Location', 'Total_Riders'], dtype='object')\n",
      "Index(['Ride_ID', 'Ride_Name', 'Ride_Type', 'Location', 'Total_Riders'], dtype='object')\n",
      "Index(['Ride_ID', 'Ride_Name', 'Ride_Type', 'Location_EUROPE', 'Total_Riders'], dtype='object')\n",
      "Index(['Ride_ID', 'Ride_Name', 'Ride_Type', 'Location', 'Total_Riders'], dtype='object')\n",
      "Index(['Ride_ID', 'Ride_Name', 'Ride_Type', 'Location', 'Total_Riders'], dtype='object')\n"
     ]
    }
   ],
   "source": [
    "## YOUR SOLUTION HERE ##\n",
    "for dataframe in dfs:\n",
    "    print(dataframe.columns)"
   ]
  },
  {
   "cell_type": "markdown",
   "id": "8d481799",
   "metadata": {},
   "source": [
    "3. Now that we know which `df` has the incorrect column title, rename that column to `Location` and re-concatenate `full_df`.\n",
    "\n",
    "Make sure to run your solution and then save the notebook before selecting `Test Work`!"
   ]
  },
  {
   "cell_type": "code",
   "execution_count": 7,
   "id": "4ddf801b",
   "metadata": {
    "deletable": false,
    "tags": [
     "cp3"
    ]
   },
   "outputs": [
    {
     "data": {
      "text/html": [
       "<div>\n",
       "<style scoped>\n",
       "    .dataframe tbody tr th:only-of-type {\n",
       "        vertical-align: middle;\n",
       "    }\n",
       "\n",
       "    .dataframe tbody tr th {\n",
       "        vertical-align: top;\n",
       "    }\n",
       "\n",
       "    .dataframe thead th {\n",
       "        text-align: right;\n",
       "    }\n",
       "</style>\n",
       "<table border=\"1\" class=\"dataframe\">\n",
       "  <thead>\n",
       "    <tr style=\"text-align: right;\">\n",
       "      <th></th>\n",
       "      <th>Ride_ID</th>\n",
       "      <th>Ride_Name</th>\n",
       "      <th>Ride_Type</th>\n",
       "      <th>Location</th>\n",
       "      <th>Total_Riders</th>\n",
       "    </tr>\n",
       "  </thead>\n",
       "  <tbody>\n",
       "    <tr>\n",
       "      <th>0</th>\n",
       "      <td>A000</td>\n",
       "      <td>Cheetah Rush</td>\n",
       "      <td>ROLLERCOASTER</td>\n",
       "      <td>AFRICA</td>\n",
       "      <td>1302035</td>\n",
       "    </tr>\n",
       "    <tr>\n",
       "      <th>1</th>\n",
       "      <td>A001</td>\n",
       "      <td>Rusizi River Delta Hippo Run</td>\n",
       "      <td>WATER RIDE</td>\n",
       "      <td>AFRICA</td>\n",
       "      <td>1500390</td>\n",
       "    </tr>\n",
       "    <tr>\n",
       "      <th>2</th>\n",
       "      <td>A002</td>\n",
       "      <td>Grazing Wildebeest Run</td>\n",
       "      <td>ROLLERCOASTER</td>\n",
       "      <td>AFRICA</td>\n",
       "      <td>1467583</td>\n",
       "    </tr>\n",
       "    <tr>\n",
       "      <th>3</th>\n",
       "      <td>A003</td>\n",
       "      <td>Lazy Lion Safari</td>\n",
       "      <td>FLAT RIDE</td>\n",
       "      <td>AFRICA</td>\n",
       "      <td>702522</td>\n",
       "    </tr>\n",
       "    <tr>\n",
       "      <th>4</th>\n",
       "      <td>A004</td>\n",
       "      <td>Ostrich Race</td>\n",
       "      <td>ROLLERCOASTER</td>\n",
       "      <td>AFRICA</td>\n",
       "      <td>1249306</td>\n",
       "    </tr>\n",
       "  </tbody>\n",
       "</table>\n",
       "</div>"
      ],
      "text/plain": [
       "  Ride_ID                     Ride_Name      Ride_Type Location  Total_Riders\n",
       "0    A000                  Cheetah Rush  ROLLERCOASTER   AFRICA       1302035\n",
       "1    A001  Rusizi River Delta Hippo Run     WATER RIDE   AFRICA       1500390\n",
       "2    A002        Grazing Wildebeest Run  ROLLERCOASTER   AFRICA       1467583\n",
       "3    A003              Lazy Lion Safari      FLAT RIDE   AFRICA        702522\n",
       "4    A004                  Ostrich Race  ROLLERCOASTER   AFRICA       1249306"
      ]
     },
     "execution_count": 7,
     "metadata": {},
     "output_type": "execute_result"
    }
   ],
   "source": [
    "## YOUR SOLUTION HERE ##\n",
    "\n",
    "# rename Location_EUROPE\n",
    "dfs[3] = dfs[3].rename(columns = {'Location_EUROPE' : 'Location'})\n",
    "\n",
    "# re-do the concatenation to generate full_df\n",
    "full_df = pd.concat(dfs)\n",
    "\n",
    "#show output\n",
    "full_df.head()"
   ]
  },
  {
   "cell_type": "markdown",
   "id": "ce5930e7",
   "metadata": {},
   "source": [
    "4. Now that we have pulled all our different data files together, we can finally do some analytics! Group by `Location` and calculate the average number of `Total_Riders`. Assign the result to the variable `park_compare`. Which park is the most popular park for the company?\n",
    "\n",
    "Make sure to run your solution and then save the notebook before selecting `Test Work`!"
   ]
  },
  {
   "cell_type": "code",
   "execution_count": 9,
   "id": "a54e437d",
   "metadata": {
    "deletable": false,
    "tags": [
     "cp4"
    ]
   },
   "outputs": [
    {
     "data": {
      "text/html": [
       "<div>\n",
       "<style scoped>\n",
       "    .dataframe tbody tr th:only-of-type {\n",
       "        vertical-align: middle;\n",
       "    }\n",
       "\n",
       "    .dataframe tbody tr th {\n",
       "        vertical-align: top;\n",
       "    }\n",
       "\n",
       "    .dataframe thead th {\n",
       "        text-align: right;\n",
       "    }\n",
       "</style>\n",
       "<table border=\"1\" class=\"dataframe\">\n",
       "  <thead>\n",
       "    <tr style=\"text-align: right;\">\n",
       "      <th></th>\n",
       "      <th>Total_Riders</th>\n",
       "    </tr>\n",
       "    <tr>\n",
       "      <th>Location</th>\n",
       "      <th></th>\n",
       "    </tr>\n",
       "  </thead>\n",
       "  <tbody>\n",
       "    <tr>\n",
       "      <th>AFRICA</th>\n",
       "      <td>1.043186e+06</td>\n",
       "    </tr>\n",
       "    <tr>\n",
       "      <th>ASIA</th>\n",
       "      <td>8.819763e+06</td>\n",
       "    </tr>\n",
       "    <tr>\n",
       "      <th>AUSTRALIA</th>\n",
       "      <td>1.014468e+06</td>\n",
       "    </tr>\n",
       "    <tr>\n",
       "      <th>EUROPE</th>\n",
       "      <td>3.931788e+06</td>\n",
       "    </tr>\n",
       "    <tr>\n",
       "      <th>NORTH AMERICA</th>\n",
       "      <td>7.088816e+06</td>\n",
       "    </tr>\n",
       "    <tr>\n",
       "      <th>SOUTH AMERICA</th>\n",
       "      <td>8.751596e+05</td>\n",
       "    </tr>\n",
       "  </tbody>\n",
       "</table>\n",
       "</div>"
      ],
      "text/plain": [
       "               Total_Riders\n",
       "Location                   \n",
       "AFRICA         1.043186e+06\n",
       "ASIA           8.819763e+06\n",
       "AUSTRALIA      1.014468e+06\n",
       "EUROPE         3.931788e+06\n",
       "NORTH AMERICA  7.088816e+06\n",
       "SOUTH AMERICA  8.751596e+05"
      ]
     },
     "execution_count": 9,
     "metadata": {},
     "output_type": "execute_result"
    }
   ],
   "source": [
    "park_compare = full_df.groupby('Location').agg({'Total_Riders' : 'mean'})\n",
    "\n",
    "# show output\n",
    "park_compare"
   ]
  }
 ],
 "metadata": {
  "celltoolbar": "Tags",
  "kernelspec": {
   "display_name": "Python 3 (ipykernel)",
   "language": "python",
   "name": "python3"
  },
  "language_info": {
   "codemirror_mode": {
    "name": "ipython",
    "version": 3
   },
   "file_extension": ".py",
   "mimetype": "text/x-python",
   "name": "python",
   "nbconvert_exporter": "python",
   "pygments_lexer": "ipython3",
   "version": "3.8.10"
  },
  "vscode": {
   "interpreter": {
    "hash": "309216611941becf9925be7ac3912671b340e0beea225aa90b8e863000503aea"
   }
  }
 },
 "nbformat": 4,
 "nbformat_minor": 5
}
