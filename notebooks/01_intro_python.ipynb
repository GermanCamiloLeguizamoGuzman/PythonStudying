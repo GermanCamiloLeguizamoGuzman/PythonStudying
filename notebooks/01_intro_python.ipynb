{
 "cells": [
  {
   "cell_type": "markdown",
   "id": "44a56e40-3f4d-48a6-b870-c32811e2b2e4",
   "metadata": {},
   "source": [
    "# Introducción a Python 🐍\n",
    "Este notebook es parte de mi proyecto de prácticas."
   ]
  },
  {
   "cell_type": "code",
   "execution_count": 2,
   "id": "d26ace5f-ee5e-4bf8-91be-f93d12d62477",
   "metadata": {},
   "outputs": [
    {
     "name": "stdout",
     "output_type": "stream",
     "text": [
      "¡Hola, mundo desde Jupyter!\n"
     ]
    }
   ],
   "source": [
    "print(\"¡Hola, mundo desde Jupyter!\")"
   ]
  }
 ],
 "metadata": {
  "kernelspec": {
   "display_name": "Python 3 (ipykernel)",
   "language": "python",
   "name": "python3"
  },
  "language_info": {
   "codemirror_mode": {
    "name": "ipython",
    "version": 3
   },
   "file_extension": ".py",
   "mimetype": "text/x-python",
   "name": "python",
   "nbconvert_exporter": "python",
   "pygments_lexer": "ipython3",
   "version": "3.13.5"
  }
 },
 "nbformat": 4,
 "nbformat_minor": 5
}
