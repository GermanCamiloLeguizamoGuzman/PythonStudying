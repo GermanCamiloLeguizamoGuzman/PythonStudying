{
 "cells": [
  {
   "cell_type": "markdown",
   "id": "4c609b12",
   "metadata": {},
   "source": [
    "**Setup**\n",
    "\n",
    "Start by running the cell below to import `pandas` and import the exercise datasets."
   ]
  },
  {
   "cell_type": "code",
   "execution_count": 1,
   "id": "047d9dc9",
   "metadata": {
    "deletable": false,
    "tags": [
     "setup"
    ]
   },
   "outputs": [
    {
     "data": {
      "text/html": [
       "<div>\n",
       "<style scoped>\n",
       "    .dataframe tbody tr th:only-of-type {\n",
       "        vertical-align: middle;\n",
       "    }\n",
       "\n",
       "    .dataframe tbody tr th {\n",
       "        vertical-align: top;\n",
       "    }\n",
       "\n",
       "    .dataframe thead th {\n",
       "        text-align: right;\n",
       "    }\n",
       "</style>\n",
       "<table border=\"1\" class=\"dataframe\">\n",
       "  <thead>\n",
       "    <tr style=\"text-align: right;\">\n",
       "      <th></th>\n",
       "      <th>review_id</th>\n",
       "      <th>current_plan_start</th>\n",
       "      <th>days_subscribed</th>\n",
       "      <th>date_reviewed</th>\n",
       "      <th>pay_freq</th>\n",
       "      <th>level</th>\n",
       "      <th>rating</th>\n",
       "      <th>first_level</th>\n",
       "    </tr>\n",
       "  </thead>\n",
       "  <tbody>\n",
       "    <tr>\n",
       "      <th>0</th>\n",
       "      <td>38538</td>\n",
       "      <td>2022-08-29</td>\n",
       "      <td>229</td>\n",
       "      <td>2023-04-15</td>\n",
       "      <td>Yearly</td>\n",
       "      <td>Premium</td>\n",
       "      <td>2</td>\n",
       "      <td>Free</td>\n",
       "    </tr>\n",
       "    <tr>\n",
       "      <th>1</th>\n",
       "      <td>78458</td>\n",
       "      <td>2022-04-11</td>\n",
       "      <td>279</td>\n",
       "      <td>2023-01-15</td>\n",
       "      <td>NaN</td>\n",
       "      <td>Free</td>\n",
       "      <td>5</td>\n",
       "      <td>Standard</td>\n",
       "    </tr>\n",
       "    <tr>\n",
       "      <th>2</th>\n",
       "      <td>16139</td>\n",
       "      <td>2022-01-19</td>\n",
       "      <td>422</td>\n",
       "      <td>2023-03-17</td>\n",
       "      <td>NaN</td>\n",
       "      <td>Free</td>\n",
       "      <td>3</td>\n",
       "      <td>Premium</td>\n",
       "    </tr>\n",
       "    <tr>\n",
       "      <th>3</th>\n",
       "      <td>88142</td>\n",
       "      <td>2022-02-26</td>\n",
       "      <td>454</td>\n",
       "      <td>2023-05-26</td>\n",
       "      <td>Yearly</td>\n",
       "      <td>Standard</td>\n",
       "      <td>3</td>\n",
       "      <td>Standard</td>\n",
       "    </tr>\n",
       "    <tr>\n",
       "      <th>4</th>\n",
       "      <td>21901</td>\n",
       "      <td>2022-05-27</td>\n",
       "      <td>84</td>\n",
       "      <td>2022-08-19</td>\n",
       "      <td>NaN</td>\n",
       "      <td>Free</td>\n",
       "      <td>4</td>\n",
       "      <td>Premium</td>\n",
       "    </tr>\n",
       "  </tbody>\n",
       "</table>\n",
       "</div>"
      ],
      "text/plain": [
       "   review_id current_plan_start  days_subscribed date_reviewed pay_freq  \\\n",
       "0      38538         2022-08-29              229    2023-04-15   Yearly   \n",
       "1      78458         2022-04-11              279    2023-01-15      NaN   \n",
       "2      16139         2022-01-19              422    2023-03-17      NaN   \n",
       "3      88142         2022-02-26              454    2023-05-26   Yearly   \n",
       "4      21901         2022-05-27               84    2022-08-19      NaN   \n",
       "\n",
       "      level  rating first_level  \n",
       "0   Premium       2        Free  \n",
       "1      Free       5    Standard  \n",
       "2      Free       3     Premium  \n",
       "3  Standard       3    Standard  \n",
       "4      Free       4     Premium  "
      ]
     },
     "execution_count": 1,
     "metadata": {},
     "output_type": "execute_result"
    }
   ],
   "source": [
    "import pandas as pd\n",
    "csat = pd.read_csv('csat.csv')\n",
    "csat.head()"
   ]
  },
  {
   "cell_type": "markdown",
   "id": "079e0e0c",
   "metadata": {},
   "source": [
    "**1. Counting 4- and 5-star ratings**\n",
    "\n",
    "We've written a function `positive` that returns the number of four star and five star reviews as two separate outputs. \n",
    "\n",
    "Call `positive` with `csat['rating']` as the input column. Assign the number of four star reviews to the variable `four` and the number of five star reviews to the variable `five`."
   ]
  },
  {
   "cell_type": "code",
   "execution_count": 6,
   "id": "b318baec",
   "metadata": {
    "deletable": false,
    "tags": [
     "cp1"
    ]
   },
   "outputs": [
    {
     "data": {
      "text/plain": [
       "(9685, 7995)"
      ]
     },
     "execution_count": 6,
     "metadata": {},
     "output_type": "execute_result"
    }
   ],
   "source": [
    "def positive(column):\n",
    "    stars4 = column.value_counts().loc[4]\n",
    "    stars5 = column.value_counts().loc[5]\n",
    "    return stars4, stars5\n",
    "\n",
    "## YOUR SOLUTION HERE ##\n",
    "four, five = positive(csat['rating'])\n",
    "\n",
    "# show output\n",
    "four,five"
   ]
  },
  {
   "cell_type": "markdown",
   "id": "6a172e5e",
   "metadata": {},
   "source": [
    "**2. Returning Minimum and Maximum**\n",
    "\n",
    "Write a function that\n",
    "- is named `min_max`\n",
    "- takes a DataFrame column as input\n",
    "- outputs `column.min()` followed by `column.max()`"
   ]
  },
  {
   "cell_type": "code",
   "execution_count": 7,
   "id": "e73ed471",
   "metadata": {
    "deletable": false,
    "tags": [
     "cp2"
    ]
   },
   "outputs": [
    {
     "data": {
      "text/plain": [
       "(0, 790)"
      ]
     },
     "execution_count": 7,
     "metadata": {},
     "output_type": "execute_result"
    }
   ],
   "source": [
    "## YOUR SOLUTION HERE ##\n",
    "def min_max(column):\n",
    "    min = column.min()\n",
    "    max = column.max()\n",
    "    return min, max\n",
    "\n",
    "# show output\n",
    "min_max(csat['days_subscribed'])"
   ]
  }
 ],
 "metadata": {
  "kernelspec": {
   "display_name": "Python 3 (ipykernel)",
   "language": "python",
   "name": "python3"
  },
  "language_info": {
   "codemirror_mode": {
    "name": "ipython",
    "version": 3
   },
   "file_extension": ".py",
   "mimetype": "text/x-python",
   "name": "python",
   "nbconvert_exporter": "python",
   "pygments_lexer": "ipython3",
   "version": "3.8.10"
  }
 },
 "nbformat": 4,
 "nbformat_minor": 5
}
