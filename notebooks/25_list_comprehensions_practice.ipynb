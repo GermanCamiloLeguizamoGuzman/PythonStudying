{
 "cells": [
  {
   "cell_type": "markdown",
   "id": "907e6c16",
   "metadata": {},
   "source": [
    "<details><summary style=\"display:list-item; font-size:16px; color:blue;\">Jupyter Help</summary>\n",
    "    \n",
    "Having trouble testing your work? Double-check that you have followed the steps below to write, run, save, and test your code!\n",
    "    \n",
    "[Click here for a walkthrough GIF of the steps below](https://static-assets.codecademy.com/Courses/ds-python/jupyter-help.gif)\n",
    "\n",
    "Run all initial cells to import libraries and datasets. Then follow these steps for each question:\n",
    "    \n",
    "1. Add your solution to the cell with `## YOUR SOLUTION HERE ## `.\n",
    "2. Run the cell by selecting the `Run` button or the `Shift`+`Enter` keys.\n",
    "3. Save your work by selecting the `Save` button, the `command`+`s` keys (Mac), or `control`+`s` keys (Windows).\n",
    "4. Select the `Test Work` button at the bottom left to test your work.\n",
    "\n",
    "![Screenshot of the buttons at the top of a Jupyter Notebook. The Run and Save buttons are highlighted](https://static-assets.codecademy.com/Paths/ds-python/jupyter-buttons.png)"
   ]
  },
  {
   "cell_type": "markdown",
   "id": "079e0e0c",
   "metadata": {},
   "source": [
    "1. We've defined a list `total_rides` of total ride counts. Use a list comprehension to divide each count by 1000 to produce a ridership count in thousands of riders. Assign the result to the variable `thousands`.\n",
    "\n",
    "Make sure to run your solution and then save the notebook before selecting `Test Work`!"
   ]
  },
  {
   "cell_type": "code",
   "execution_count": 2,
   "id": "b318baec",
   "metadata": {
    "deletable": false,
    "tags": [
     "cp1"
    ]
   },
   "outputs": [
    {
     "data": {
      "text/plain": [
       "[6525.831, 8039.49, 7075.161, 6959.417, 6504.358]"
      ]
     },
     "execution_count": 2,
     "metadata": {},
     "output_type": "execute_result"
    }
   ],
   "source": [
    "total_rides = [6525831, 8039490, 7075161, 6959417, 6504358]\n",
    "\n",
    "## YOUR SOLUTION HERE ##\n",
    "thousands = [total / 1000 for total in total_rides]\n",
    "\n",
    "# show output\n",
    "thousands"
   ]
  },
  {
   "cell_type": "markdown",
   "id": "6a172e5e",
   "metadata": {},
   "source": [
    "2. Using the `thousands` list from the previous checkpoint, use a loop comprehension to round each item in `thousands` to `0` decimals. Assign the result to `rounded`.\n",
    "\n",
    "Make sure to run your solution and then save the notebook before selecting `Test Work`!"
   ]
  },
  {
   "cell_type": "code",
   "execution_count": 5,
   "id": "e73ed471",
   "metadata": {
    "deletable": false,
    "tags": [
     "cp2"
    ]
   },
   "outputs": [
    {
     "data": {
      "text/plain": [
       "[6526.0, 8039.0, 7075.0, 6959.0, 6504.0]"
      ]
     },
     "execution_count": 5,
     "metadata": {},
     "output_type": "execute_result"
    }
   ],
   "source": [
    "## YOUR SOLUTION HERE ##\n",
    "rounded =  [round(item, 0) for item in thousands]\n",
    "\n",
    "# show output\n",
    "rounded"
   ]
  },
  {
   "cell_type": "code",
   "execution_count": null,
   "id": "393177b1",
   "metadata": {},
   "outputs": [],
   "source": []
  }
 ],
 "metadata": {
  "kernelspec": {
   "display_name": "Python 3 (ipykernel)",
   "language": "python",
   "name": "python3"
  },
  "language_info": {
   "codemirror_mode": {
    "name": "ipython",
    "version": 3
   },
   "file_extension": ".py",
   "mimetype": "text/x-python",
   "name": "python",
   "nbconvert_exporter": "python",
   "pygments_lexer": "ipython3",
   "version": "3.8.10"
  },
  "vscode": {
   "interpreter": {
    "hash": "309216611941becf9925be7ac3912671b340e0beea225aa90b8e863000503aea"
   }
  }
 },
 "nbformat": 4,
 "nbformat_minor": 5
}
