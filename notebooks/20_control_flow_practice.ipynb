{
 "cells": [
  {
   "cell_type": "markdown",
   "id": "063bb2a2",
   "metadata": {},
   "source": [
    "<details><summary style=\"display:list-item; font-size:16px; color:blue;\">Jupyter Help</summary>\n",
    "    \n",
    "Having trouble testing your work? Double-check that you have followed the steps below to write, run, save, and test your code!\n",
    "    \n",
    "[Click here for a walkthrough GIF of the steps below](https://static-assets.codecademy.com/Courses/ds-python/jupyter-help.gif)\n",
    "\n",
    "Run all initial cells to import libraries and datasets. Then follow these steps for each question:\n",
    "    \n",
    "1. Add your solution to the cell with `## YOUR SOLUTION HERE ## `.\n",
    "2. Run the cell by selecting the `Run` button or the `Shift`+`Enter` keys.\n",
    "3. Save your work by selecting the `Save` button, the `command`+`s` keys (Mac), or `control`+`s` keys (Windows).\n",
    "4. Select the `Test Work` button at the bottom left to test your work.\n",
    "\n",
    "![Screenshot of the buttons at the top of a Jupyter Notebook. The Run and Save buttons are highlighted](https://static-assets.codecademy.com/Paths/ds-python/jupyter-buttons.png)"
   ]
  },
  {
   "cell_type": "markdown",
   "id": "4c609b12",
   "metadata": {},
   "source": [
    "Setup."
   ]
  },
  {
   "cell_type": "code",
   "execution_count": 1,
   "id": "047d9dc9",
   "metadata": {
    "deletable": false,
    "tags": [
     "setup"
    ]
   },
   "outputs": [
    {
     "data": {
      "text/html": [
       "<div>\n",
       "<style scoped>\n",
       "    .dataframe tbody tr th:only-of-type {\n",
       "        vertical-align: middle;\n",
       "    }\n",
       "\n",
       "    .dataframe tbody tr th {\n",
       "        vertical-align: top;\n",
       "    }\n",
       "\n",
       "    .dataframe thead th {\n",
       "        text-align: right;\n",
       "    }\n",
       "</style>\n",
       "<table border=\"1\" class=\"dataframe\">\n",
       "  <thead>\n",
       "    <tr style=\"text-align: right;\">\n",
       "      <th></th>\n",
       "      <th>Ride_ID</th>\n",
       "      <th>Ride_Name</th>\n",
       "      <th>Ride_Type</th>\n",
       "      <th>Location</th>\n",
       "      <th>Total_Riders</th>\n",
       "    </tr>\n",
       "  </thead>\n",
       "  <tbody>\n",
       "    <tr>\n",
       "      <th>0</th>\n",
       "      <td>E000</td>\n",
       "      <td>Flying with Bald Eagles</td>\n",
       "      <td>SIMULATION</td>\n",
       "      <td>NORTH AMERICA</td>\n",
       "      <td>6525831</td>\n",
       "    </tr>\n",
       "    <tr>\n",
       "      <th>1</th>\n",
       "      <td>E001</td>\n",
       "      <td>Grand Canyon Coaster</td>\n",
       "      <td>ROLLERCOASTER</td>\n",
       "      <td>NORTH AMERICA</td>\n",
       "      <td>8039490</td>\n",
       "    </tr>\n",
       "    <tr>\n",
       "      <th>2</th>\n",
       "      <td>E002</td>\n",
       "      <td>Bouldering Bison</td>\n",
       "      <td>FLAT RIDE</td>\n",
       "      <td>NORTH AMERICA</td>\n",
       "      <td>7075161</td>\n",
       "    </tr>\n",
       "    <tr>\n",
       "      <th>3</th>\n",
       "      <td>E003</td>\n",
       "      <td>Swimming with Manatees</td>\n",
       "      <td>WATER RIDE</td>\n",
       "      <td>NORTH AMERICA</td>\n",
       "      <td>6959417</td>\n",
       "    </tr>\n",
       "    <tr>\n",
       "      <th>4</th>\n",
       "      <td>E004</td>\n",
       "      <td>Grizzly Bear Fishing</td>\n",
       "      <td>WATER RIDE</td>\n",
       "      <td>NORTH AMERICA</td>\n",
       "      <td>6504358</td>\n",
       "    </tr>\n",
       "  </tbody>\n",
       "</table>\n",
       "</div>"
      ],
      "text/plain": [
       "  Ride_ID                Ride_Name      Ride_Type       Location  Total_Riders\n",
       "0    E000  Flying with Bald Eagles     SIMULATION  NORTH AMERICA       6525831\n",
       "1    E001     Grand Canyon Coaster  ROLLERCOASTER  NORTH AMERICA       8039490\n",
       "2    E002         Bouldering Bison      FLAT RIDE  NORTH AMERICA       7075161\n",
       "3    E003   Swimming with Manatees     WATER RIDE  NORTH AMERICA       6959417\n",
       "4    E004     Grizzly Bear Fishing     WATER RIDE  NORTH AMERICA       6504358"
      ]
     },
     "execution_count": 1,
     "metadata": {},
     "output_type": "execute_result"
    }
   ],
   "source": [
    "import pandas as pd\n",
    "\n",
    "rides = pd.read_csv('amusementpark_4.csv')\n",
    "rides.head()"
   ]
  },
  {
   "cell_type": "markdown",
   "id": "079e0e0c",
   "metadata": {},
   "source": [
    "1. Run the `Setup` cell to import libraries and datasets.\n",
    "\n",
    "We've defined a variable `column` in the first cell below. Run that cell now. \n",
    "\n",
    "In the following cell, we've written an `if` statement. This statement is supposed to check if `rides[column]` is an object, and if so lowercases it. But we've made a mistake! Can you fix our mistake?\n",
    "\n",
    "Make sure to run your solution and then save the notebook before selecting `Test Work`!"
   ]
  },
  {
   "cell_type": "code",
   "execution_count": 2,
   "id": "efdd3c6b",
   "metadata": {
    "deletable": false
   },
   "outputs": [],
   "source": [
    "column = 'Ride_Name'"
   ]
  },
  {
   "cell_type": "code",
   "execution_count": 3,
   "id": "b318baec",
   "metadata": {
    "deletable": false,
    "tags": [
     "cp1"
    ]
   },
   "outputs": [
    {
     "data": {
      "text/html": [
       "<div>\n",
       "<style scoped>\n",
       "    .dataframe tbody tr th:only-of-type {\n",
       "        vertical-align: middle;\n",
       "    }\n",
       "\n",
       "    .dataframe tbody tr th {\n",
       "        vertical-align: top;\n",
       "    }\n",
       "\n",
       "    .dataframe thead th {\n",
       "        text-align: right;\n",
       "    }\n",
       "</style>\n",
       "<table border=\"1\" class=\"dataframe\">\n",
       "  <thead>\n",
       "    <tr style=\"text-align: right;\">\n",
       "      <th></th>\n",
       "      <th>Ride_ID</th>\n",
       "      <th>Ride_Name</th>\n",
       "      <th>Ride_Type</th>\n",
       "      <th>Location</th>\n",
       "      <th>Total_Riders</th>\n",
       "    </tr>\n",
       "  </thead>\n",
       "  <tbody>\n",
       "    <tr>\n",
       "      <th>0</th>\n",
       "      <td>E000</td>\n",
       "      <td>flying with bald eagles</td>\n",
       "      <td>SIMULATION</td>\n",
       "      <td>NORTH AMERICA</td>\n",
       "      <td>6525831</td>\n",
       "    </tr>\n",
       "    <tr>\n",
       "      <th>1</th>\n",
       "      <td>E001</td>\n",
       "      <td>grand canyon coaster</td>\n",
       "      <td>ROLLERCOASTER</td>\n",
       "      <td>NORTH AMERICA</td>\n",
       "      <td>8039490</td>\n",
       "    </tr>\n",
       "    <tr>\n",
       "      <th>2</th>\n",
       "      <td>E002</td>\n",
       "      <td>bouldering bison</td>\n",
       "      <td>FLAT RIDE</td>\n",
       "      <td>NORTH AMERICA</td>\n",
       "      <td>7075161</td>\n",
       "    </tr>\n",
       "    <tr>\n",
       "      <th>3</th>\n",
       "      <td>E003</td>\n",
       "      <td>swimming with manatees</td>\n",
       "      <td>WATER RIDE</td>\n",
       "      <td>NORTH AMERICA</td>\n",
       "      <td>6959417</td>\n",
       "    </tr>\n",
       "    <tr>\n",
       "      <th>4</th>\n",
       "      <td>E004</td>\n",
       "      <td>grizzly bear fishing</td>\n",
       "      <td>WATER RIDE</td>\n",
       "      <td>NORTH AMERICA</td>\n",
       "      <td>6504358</td>\n",
       "    </tr>\n",
       "  </tbody>\n",
       "</table>\n",
       "</div>"
      ],
      "text/plain": [
       "  Ride_ID                Ride_Name      Ride_Type       Location  Total_Riders\n",
       "0    E000  flying with bald eagles     SIMULATION  NORTH AMERICA       6525831\n",
       "1    E001     grand canyon coaster  ROLLERCOASTER  NORTH AMERICA       8039490\n",
       "2    E002         bouldering bison      FLAT RIDE  NORTH AMERICA       7075161\n",
       "3    E003   swimming with manatees     WATER RIDE  NORTH AMERICA       6959417\n",
       "4    E004     grizzly bear fishing     WATER RIDE  NORTH AMERICA       6504358"
      ]
     },
     "execution_count": 3,
     "metadata": {},
     "output_type": "execute_result"
    }
   ],
   "source": [
    "## YOUR SOLUTION HERE ##\n",
    "if rides[column].dtype == 'object':\n",
    "    rides[column] = rides[column].str.lower()\n",
    "\n",
    "rides.head()"
   ]
  },
  {
   "cell_type": "markdown",
   "id": "6a172e5e",
   "metadata": {},
   "source": [
    "2. Let's make the large numbers in `Total_Riders` more readable by dividing them by `1000`.\n",
    "\n",
    "Once again, start by running the cell directly below to define the `column` variable. In the following cell, add an `elif` statement that checks if `rides[column].dtype` is `'int64'`. If it is, the code `rides[column] = rides[column] / 1000` should run.\n",
    "\n",
    "Make sure to run your solution and then save the notebook before selecting `Test Work`!"
   ]
  },
  {
   "cell_type": "code",
   "execution_count": 4,
   "id": "164d6fd3",
   "metadata": {
    "deletable": false
   },
   "outputs": [],
   "source": [
    "column = 'Total_Riders'"
   ]
  },
  {
   "cell_type": "code",
   "execution_count": 6,
   "id": "e73ed471",
   "metadata": {
    "deletable": false,
    "tags": [
     "cp2"
    ]
   },
   "outputs": [
    {
     "data": {
      "text/html": [
       "<div>\n",
       "<style scoped>\n",
       "    .dataframe tbody tr th:only-of-type {\n",
       "        vertical-align: middle;\n",
       "    }\n",
       "\n",
       "    .dataframe tbody tr th {\n",
       "        vertical-align: top;\n",
       "    }\n",
       "\n",
       "    .dataframe thead th {\n",
       "        text-align: right;\n",
       "    }\n",
       "</style>\n",
       "<table border=\"1\" class=\"dataframe\">\n",
       "  <thead>\n",
       "    <tr style=\"text-align: right;\">\n",
       "      <th></th>\n",
       "      <th>Ride_ID</th>\n",
       "      <th>Ride_Name</th>\n",
       "      <th>Ride_Type</th>\n",
       "      <th>Location</th>\n",
       "      <th>Total_Riders</th>\n",
       "    </tr>\n",
       "  </thead>\n",
       "  <tbody>\n",
       "    <tr>\n",
       "      <th>0</th>\n",
       "      <td>E000</td>\n",
       "      <td>flying with bald eagles</td>\n",
       "      <td>SIMULATION</td>\n",
       "      <td>NORTH AMERICA</td>\n",
       "      <td>6525.831</td>\n",
       "    </tr>\n",
       "    <tr>\n",
       "      <th>1</th>\n",
       "      <td>E001</td>\n",
       "      <td>grand canyon coaster</td>\n",
       "      <td>ROLLERCOASTER</td>\n",
       "      <td>NORTH AMERICA</td>\n",
       "      <td>8039.490</td>\n",
       "    </tr>\n",
       "    <tr>\n",
       "      <th>2</th>\n",
       "      <td>E002</td>\n",
       "      <td>bouldering bison</td>\n",
       "      <td>FLAT RIDE</td>\n",
       "      <td>NORTH AMERICA</td>\n",
       "      <td>7075.161</td>\n",
       "    </tr>\n",
       "    <tr>\n",
       "      <th>3</th>\n",
       "      <td>E003</td>\n",
       "      <td>swimming with manatees</td>\n",
       "      <td>WATER RIDE</td>\n",
       "      <td>NORTH AMERICA</td>\n",
       "      <td>6959.417</td>\n",
       "    </tr>\n",
       "    <tr>\n",
       "      <th>4</th>\n",
       "      <td>E004</td>\n",
       "      <td>grizzly bear fishing</td>\n",
       "      <td>WATER RIDE</td>\n",
       "      <td>NORTH AMERICA</td>\n",
       "      <td>6504.358</td>\n",
       "    </tr>\n",
       "  </tbody>\n",
       "</table>\n",
       "</div>"
      ],
      "text/plain": [
       "  Ride_ID                Ride_Name      Ride_Type       Location  Total_Riders\n",
       "0    E000  flying with bald eagles     SIMULATION  NORTH AMERICA      6525.831\n",
       "1    E001     grand canyon coaster  ROLLERCOASTER  NORTH AMERICA      8039.490\n",
       "2    E002         bouldering bison      FLAT RIDE  NORTH AMERICA      7075.161\n",
       "3    E003   swimming with manatees     WATER RIDE  NORTH AMERICA      6959.417\n",
       "4    E004     grizzly bear fishing     WATER RIDE  NORTH AMERICA      6504.358"
      ]
     },
     "execution_count": 6,
     "metadata": {},
     "output_type": "execute_result"
    }
   ],
   "source": [
    "if rides[column].dtype == 'float64':\n",
    "    rides[column] = rides[column].round(decimals=2)\n",
    "## YOUR SOLUTION HERE ##\n",
    "elif rides[column].dtype == 'int64':\n",
    "    rides[column] = rides[column] / 1000\n",
    "# show output\n",
    "rides.head()"
   ]
  },
  {
   "cell_type": "markdown",
   "id": "8d481799",
   "metadata": {},
   "source": [
    "3. We've defined a variable `total_riders` in the cell below. Run that cell first. In the following cell, write an `if/elif/else` statement:\n",
    "- if `total_riders` is below `20000`, define a variable `pop = 'unpopular'`\n",
    "- elif `total_riders` is below `100000`, define a variable `pop = 'popular'`\n",
    "- otherwise, define a variable `pop = 'superpopular'`\n",
    "\n",
    "Make sure to run your solution and then save the notebook before selecting `Test Work`!"
   ]
  },
  {
   "cell_type": "code",
   "execution_count": 8,
   "id": "abb39498",
   "metadata": {},
   "outputs": [],
   "source": [
    "total_riders = 100"
   ]
  },
  {
   "cell_type": "code",
   "execution_count": 9,
   "id": "a86989e7",
   "metadata": {
    "deletable": false,
    "tags": [
     "cp3"
    ]
   },
   "outputs": [
    {
     "data": {
      "text/plain": [
       "'unpopular'"
      ]
     },
     "execution_count": 9,
     "metadata": {},
     "output_type": "execute_result"
    }
   ],
   "source": [
    "## YOUR SOLUTION HERE ##\n",
    "if total_riders < 20000:\n",
    "    pop = 'unpopular'\n",
    "elif total_riders < 100000:\n",
    "    pop = 'popular'\n",
    "else:\n",
    "    pop = 'superpopular'\n",
    "    \n",
    "# show output\n",
    "pop"
   ]
  }
 ],
 "metadata": {
  "kernelspec": {
   "display_name": "Python 3 (ipykernel)",
   "language": "python",
   "name": "python3"
  },
  "language_info": {
   "codemirror_mode": {
    "name": "ipython",
    "version": 3
   },
   "file_extension": ".py",
   "mimetype": "text/x-python",
   "name": "python",
   "nbconvert_exporter": "python",
   "pygments_lexer": "ipython3",
   "version": "3.8.10"
  },
  "vscode": {
   "interpreter": {
    "hash": "309216611941becf9925be7ac3912671b340e0beea225aa90b8e863000503aea"
   }
  }
 },
 "nbformat": 4,
 "nbformat_minor": 5
}
